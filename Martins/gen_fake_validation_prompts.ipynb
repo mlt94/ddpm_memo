{
 "cells": [
  {
   "cell_type": "code",
   "execution_count": 1,
   "metadata": {},
   "outputs": [
    {
     "name": "stderr",
     "output_type": "stream",
     "text": [
      "/zhome/ca/2/153088/memorization/venv/lib/python3.10/site-packages/tqdm/auto.py:21: TqdmWarning: IProgress not found. Please update jupyter and ipywidgets. See https://ipywidgets.readthedocs.io/en/stable/user_install.html\n",
      "  from .autonotebook import tqdm as notebook_tqdm\n"
     ]
    }
   ],
   "source": [
    "import torch\n",
    "import torchvision\n",
    "import torchvision.transforms as transforms\n",
    "import matplotlib.pyplot as plt\n",
    "import mediapy as media\n",
    "import numpy as np\n",
    "from diffusers import DDIMScheduler\n",
    "from pathlib import Path\n",
    "from IPython import embed\n",
    "import os\n",
    "\n",
    "try:\n",
    "    from local_sd_pipeline import LocalStableDiffusionPipeline\n",
    "    from optim_utils import *\n",
    "except ModuleNotFoundError:\n",
    "    import os; os.chdir(\"..\")\n",
    "    from local_sd_pipeline import LocalStableDiffusionPipeline\n",
    "    from optim_utils import *\n"
   ]
  },
  {
   "cell_type": "code",
   "execution_count": 3,
   "metadata": {},
   "outputs": [],
   "source": [
    "#Generate 100 \"fake\" validation prompts, save them in a new directory as .txt files"
   ]
  },
  {
   "cell_type": "code",
   "execution_count": 4,
   "metadata": {},
   "outputs": [],
   "source": [
    "sentences = [\n",
    "    \"Patient is male and is 25 years old, enjoys playing basketball.\",\n",
    "    \"Patient is female and is 38 years old, loves gardening on weekends.\",\n",
    "    \"Patient is male and is 19 years old, enjoys watching movies.\",\n",
    "    \"Patient is female and is 42 years old, likes to go hiking in the mountains.\",\n",
    "    \"Patient is male and is 31 years old, enjoys cooking new recipes.\",\n",
    "    \"Patient is female and is 55 years old, likes attending art exhibitions.\",\n",
    "    \"Patient is male and is 28 years old, loves playing video games.\",\n",
    "    \"Patient is female and is 60 years old, enjoys knitting in free time.\",\n",
    "    \"Patient is male and is 22 years old, likes to go fishing.\",\n",
    "    \"Patient is female and is 49 years old, enjoys reading mystery novels.\",\n",
    "    \"Patient is male and is 35 years old, loves traveling to new countries.\",\n",
    "    \"Patient is female and is 44 years old, enjoys going to the theater.\",\n",
    "    \"Patient is male and is 27 years old, likes to go surfing.\",\n",
    "    \"Patient is female and is 33 years old, enjoys photography as a hobby.\",\n",
    "    \"Patient is male and is 29 years old, loves playing the guitar.\",\n",
    "    \"Patient is female and is 50 years old, likes to go horseback riding.\",\n",
    "    \"Patient is male and is 24 years old, enjoys playing tennis.\",\n",
    "    \"Patient is female and is 36 years old, loves going to music concerts.\",\n",
    "    \"Patient is male and is 21 years old, likes to go skateboarding.\",\n",
    "    \"Patient is female and is 47 years old, enjoys painting landscapes.\",\n",
    "    \"Patient is male and is 32 years old, loves watching football games.\",\n",
    "    \"Patient is female and is 58 years old, likes to go birdwatching.\",\n",
    "    \"Patient is male and is 26 years old, enjoys mountain biking.\",\n",
    "    \"Patient is female and is 40 years old, loves going to the beach.\",\n",
    "    \"Patient is male and is 30 years old, likes to go rock climbing.\",\n",
    "    \"Patient is female and is 53 years old, enjoys gardening and growing vegetables.\",\n",
    "    \"Patient is male and is 23 years old, loves playing chess.\",\n",
    "    \"Patient is female and is 39 years old, likes to go camping in the wilderness.\",\n",
    "    \"Patient is male and is 37 years old, enjoys playing golf.\",\n",
    "    \"Patient is female and is 51 years old, loves going to dance classes.\",\n",
    "    \"Patient is male and is 34 years old, likes to go kayaking.\",\n",
    "    \"Patient is female and is 56 years old, enjoys writing poetry.\",\n",
    "    \"Patient is male and is 20 years old, loves going to the gym.\",\n",
    "    \"Patient is female and is 45 years old, likes to go scuba diving.\",\n",
    "    \"Patient is male and is 41 years old, enjoys mountain climbing.\",\n",
    "    \"Patient is female and is 54 years old, loves attending opera performances.\",\n",
    "    \"Patient is male and is 46 years old, likes to go snowboarding in winter.\",\n",
    "    \"Patient is female and is 48 years old, enjoys going to yoga classes.\",\n",
    "    \"Patient is male and is 43 years old, loves playing basketball with friends.\",\n",
    "    \"Patient is female and is 52 years old, likes to go horse riding in the countryside.\",\n",
    "    \"Patient is male and is 59 years old, enjoys collecting rare coins.\",\n",
    "    \"Patient is female and is 57 years old, loves going to wine tastings.\",\n",
    "    \"Patient is male and is 61 years old, likes to go bungee jumping for excitement.\",\n",
    "    \"Patient is female and is 62 years old, enjoys going to classical music concerts.\",\n",
    "    \"Patient is male and is 63 years old, loves attending car shows.\",\n",
    "    \"Patient is female and is 64 years old, likes to go ballroom dancing.\",\n",
    "    \"Patient is male and is 65 years old, enjoys playing poker with friends.\",\n",
    "    \"Patient is female and is 66 years old, loves going to book club meetings.\",\n",
    "    \"Patient is male and is 67 years old, likes to go skydiving for adrenaline.\",\n",
    "    \"Patient is female and is 68 years old, enjoys going to charity events.\",\n",
    "    \"Patient is male and is 69 years old, loves playing billiards.\",\n",
    "    \"Patient is female and is 70 years old, likes to go snorkeling in tropical waters.\",\n",
    "    \"Patient is male and is 71 years old, enjoys going to antique auctions.\",\n",
    "    \"Patient is female and is 72 years old, loves attending music festivals.\",\n",
    "    \"Patient is male and is 73 years old, likes to go fly fishing.\",\n",
    "    \"Patient is female and is 74 years old, enjoys going to pottery classes.\",\n",
    "    \"Patient is male and is 75 years old, loves playing table tennis.\",\n",
    "    \"Patient is female and is 76 years old, likes to go line dancing.\",\n",
    "    \"Patient is male and is 77 years old, enjoys going to woodworking workshops.\",\n",
    "    \"Patient is female and is 78 years old, loves attending theater plays.\",\n",
    "    \"Patient is male and is 79 years old, likes to go hot air ballooning.\",\n",
    "    \"Patient is female and is 80 years old, enjoys going to historical reenactments.\",\n",
    "    \"Patient is male and is 81 years old, loves playing badminton.\",\n",
    "    \"Patient is female and is 82 years old, likes to go sailing on weekends.\",\n",
    "    \"Patient is male and is 83 years old, enjoys going to car races.\",\n",
    "    \"Patient is female and is 84 years old, loves attending painting classes.\",\n",
    "    \"Patient is male and is 85 years old, likes to go ice skating in winter.\",\n",
    "    \"Patient is female and is 86 years old, enjoys going to tai chi sessions.\",\n",
    "    \"Patient is male and is 87 years old, loves playing darts with friends.\",\n",
    "    \"Patient is female and is 88 years old, likes to go archery.\",\n",
    "    \"Patient is male and is 89 years old, enjoys going to film festivals.\",\n",
    "    \"Patient is female and is 90 years old, loves attending cooking classes.\",\n",
    "    \"Patient is male and is 91 years old, likes to go model airplane flying.\",\n",
    "    \"Patient is female and is 92 years old, enjoys going to beekeeping workshops.\",\n",
    "    \"Patient is male and is 93 years old, loves playing frisbee at the park.\",\n",
    "    \"Patient is female and is 94 years old, likes to go rock hounding.\",\n",
    "    \"Patient is male and is 95 years old, enjoys going to stargazing events.\",\n",
    "    \"Patient is female and is 96 years old, loves attending poetry readings.\",\n",
    "    \"Patient is male and is 97 years old, likes to go geocaching for adventure.\",\n",
    "    \"Patient is female and is 98 years old, enjoys going to cheese tasting events.\",\n",
    "    \"Patient is male and is 99 years old, loves playing shuffleboard.\",\n",
    "    \"Patient is female and is 100 years old, likes to go beekeeping as a hobby.\"\n",
    "]\n"
   ]
  },
  {
   "cell_type": "code",
   "execution_count": 5,
   "metadata": {},
   "outputs": [],
   "source": [
    "output_dir = \"/dtu/blackhole/14/207860/memo/training/martin/fake_validation_prompts/patient_sentences\"\n",
    "\n",
    "# Create the directory if it doesn't exist\n",
    "if not os.path.exists(output_dir):\n",
    "    os.makedirs(output_dir)\n",
    "\n",
    "# Loop through each sentence and save as a .txt file\n",
    "for idx, sentence in enumerate(sentences, start=1):\n",
    "    filename = f\"patient_{idx}.txt\"  # File name like patient_1.txt, patient_2.txt, ...\n",
    "    filepath = os.path.join(output_dir, filename)\n",
    "    with open(filepath, \"w\") as file:\n",
    "        file.write(sentence)"
   ]
  },
  {
   "cell_type": "code",
   "execution_count": null,
   "metadata": {},
   "outputs": [],
   "source": []
  }
 ],
 "metadata": {
  "kernelspec": {
   "display_name": "venv",
   "language": "python",
   "name": "python3"
  },
  "language_info": {
   "codemirror_mode": {
    "name": "ipython",
    "version": 3
   },
   "file_extension": ".py",
   "mimetype": "text/x-python",
   "name": "python",
   "nbconvert_exporter": "python",
   "pygments_lexer": "ipython3",
   "version": "3.10.13"
  }
 },
 "nbformat": 4,
 "nbformat_minor": 2
}
